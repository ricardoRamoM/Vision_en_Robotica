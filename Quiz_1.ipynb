{
 "cells": [
  {
   "cell_type": "markdown",
   "id": "29e3ff94",
   "metadata": {},
   "source": [
    "# 📝 Quiz — Notebook 01 a 08\n",
    "\n",
    "**Instrucciones:** Responde directamente en este notebook. Completa las celdas de código y las de texto según se indique.\n",
    "\n",
    "---\n"
   ]
  },
  {
   "cell_type": "markdown",
   "id": "46701086",
   "metadata": {},
   "source": [
    "## Problema 1: Histograma y Carga de Imagen (25 pts)\n",
    "\n",
    "1. Carga la imagen `lenna.png` en **RGB** y en **escala de grises**. (5 pts)  \n",
    "2. Muestra ambas imágenes lado a lado. (10 pts)  \n",
    "3. Genera el **histograma de la imagen en escala de grises** e interprétalo en 4–5 líneas:  \n",
    "   - ¿Dónde se concentra la mayor parte de los niveles de intensidad?  \n",
    "   - ¿Qué información útil nos da este histograma en el contexto de visión robótica? (10 pts)\n"
   ]
  },
  {
   "cell_type": "code",
   "execution_count": null,
   "id": "62fac788",
   "metadata": {},
   "outputs": [],
   "source": [
    "# Tu código aquí para cargar la imagen en RGB y en escala de grises,\n",
    "# mostrar ambas lado a lado y graficar el histograma en grises.\n"
   ]
  },
  {
   "cell_type": "markdown",
   "id": "041393d3",
   "metadata": {},
   "source": [
    "### Explicación del histograma (escribe aquí tu respuesta en 4–5 líneas)"
   ]
  },
  {
   "cell_type": "markdown",
   "id": "4123aa3b",
   "metadata": {},
   "source": [
    "## Problema 2: Transformaciones geométricas (75 pts)\n",
    "\n",
    "1. Carga `lenna.png` y realiza las siguientes transformaciones:  \n",
    "   - **Escalado** al 50% del tamaño original. (10 pts)  \n",
    "   - **Traslación** de +40 px en X y +20 px en Y. (10 pts)  \n",
    "   - **Rotación** de 45° alrededor del centro de la imagen, ajustando el bounding box para evitar recortes. (15 pts)  \n",
    "   - **Transformación afín**: toma 3 puntos de la imagen y defínelos manualmente para mapearlos a un triángulo distinto. (20 pts)  \n",
    "   - **Transformación proyectiva**: toma 4 puntos de la imagen y mapéalos a un rectángulo destino. (20 pts)\n",
    "\n",
    "2. Muestra todas las imágenes resultantes en una cuadrícula (ejemplo: 2 filas × 3 columnas).  \n",
    "\n",
    "3. **Pregunta de aplicación (10 pts):** Explica con tus palabras **un caso real en robótica** donde:  \n",
    "   - El **escalado** sea útil.  \n",
    "   - La **rotación** sea necesaria.  \n",
    "   - La **transformación proyectiva** resuelva un problema práctico.  \n"
   ]
  },
  {
   "cell_type": "code",
   "execution_count": null,
   "id": "0ce22614",
   "metadata": {},
   "outputs": [],
   "source": [
    "# Tu código aquí para aplicar las transformaciones geométricas y mostrar los resultados en cuadrícula.\n"
   ]
  },
  {
   "cell_type": "markdown",
   "id": "7b82de39",
   "metadata": {},
   "source": [
    "### Respuesta de aplicación en robótica (escribe aquí tu explicación)"
   ]
  }
 ],
 "metadata": {
  "language_info": {
   "name": "python"
  }
 },
 "nbformat": 4,
 "nbformat_minor": 5
}
